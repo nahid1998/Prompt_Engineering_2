{
 "cells": [
  {
   "cell_type": "markdown",
   "metadata": {},
   "source": [
    "## Setup"
   ]
  },
  {
   "cell_type": "code",
   "execution_count": 1,
   "metadata": {},
   "outputs": [],
   "source": [
    "import os\n",
    "import openai\n",
    "import tiktoken\n",
    "from dotenv import load_dotenv, find_dotenv\n",
    "_ = load_dotenv(find_dotenv()) # read local .env file\n",
    "\n",
    "openai.api_key  = os.environ['OPENAI_API_KEY']"
   ]
  },
  {
   "cell_type": "code",
   "execution_count": 6,
   "metadata": {},
   "outputs": [],
   "source": [
    "client = openai.OpenAI()\n",
    "\n",
    "def get_completion(prompt, model=\"gpt-3.5-turbo\"):\n",
    "    messages = [{\"role\": \"user\", \"content\": prompt}]\n",
    "    response = client.chat.completions.create(\n",
    "        model=model,\n",
    "        messages=messages,\n",
    "        temperature=0\n",
    "    )\n",
    "    return response.choices[0].message.content\n",
    "\n",
    "def get_completion_from_messages(messages, model=\"gpt-3.5-turbo\", temperature=0, max_tokens=500):\n",
    "    response = client.chat.completions.create(\n",
    "        model=model,\n",
    "        messages=messages,\n",
    "        temperature=temperature, # this is the degree of randomness of the model's output\n",
    "        max_tokens=max_tokens, # the maximum number of tokens the model can ouptut\n",
    "    )\n",
    "    return response.choices[0].message.content"
   ]
  },
  {
   "cell_type": "markdown",
   "metadata": {},
   "source": [
    "## Prompt the model and get a completion"
   ]
  },
  {
   "cell_type": "code",
   "execution_count": 3,
   "metadata": {},
   "outputs": [
    {
     "name": "stdout",
     "output_type": "stream",
     "text": [
      "The capital of France is Paris.\n"
     ]
    }
   ],
   "source": [
    "response = get_completion(\"What is the capital of France?\")\n",
    "print(response)"
   ]
  },
  {
   "cell_type": "markdown",
   "metadata": {},
   "source": [
    "## Tokens"
   ]
  },
  {
   "cell_type": "code",
   "execution_count": 4,
   "metadata": {},
   "outputs": [
    {
     "name": "stdout",
     "output_type": "stream",
     "text": [
      "The reversed letters of \"lollipop\" are \"pillipol\".\n"
     ]
    }
   ],
   "source": [
    "response = get_completion(\"Take the letters in lollipop and reverse them\")\n",
    "print(response)"
   ]
  },
  {
   "cell_type": "code",
   "execution_count": 5,
   "metadata": {},
   "outputs": [
    {
     "name": "stdout",
     "output_type": "stream",
     "text": [
      "p-o-p-i-l-l-o-l\n"
     ]
    }
   ],
   "source": [
    "response = get_completion(\"\"\"Take the letters in l-o-l-l-i-p-o-p and reverse them\"\"\")\n",
    "print(response)"
   ]
  },
  {
   "cell_type": "markdown",
   "metadata": {},
   "source": [
    "## Helper function (chat format)"
   ]
  },
  {
   "cell_type": "code",
   "execution_count": 7,
   "metadata": {},
   "outputs": [
    {
     "name": "stdout",
     "output_type": "stream",
     "text": [
      "Oh, the happy carrot, all orange and bright,\n",
      "With a leafy green top, reaching towards the light.\n",
      "In the garden it grew, with love and care,\n",
      "Till it was plucked, making everyone stare.\n",
      "\n",
      "From the earth it was pulled, with a joyful sway,\n",
      "For it knew it would bring smiles all the day.\n",
      "With a crisp, crunchy bite and a sweet, juicy taste,\n",
      "The happy carrot made every meal a true feast.\n",
      "\n",
      "Whether in a salad or roasted with glee,\n",
      "The happy carrot filled hearts with glee.\n",
      "So let's celebrate this veggie, so merry and gay,\n",
      "For the happy carrot brightens up our day!\n"
     ]
    }
   ],
   "source": [
    "messages =  [\n",
    "{'role':'system', 'content':\"\"\"You are an assistant who responds in the style of Dr Seuss.\"\"\"},\n",
    "{'role':'user', 'content':\"\"\"write me a very short poem about a happy carrot\"\"\"},\n",
    "]\n",
    "response = get_completion_from_messages(messages, temperature=1)\n",
    "print(response)"
   ]
  },
  {
   "cell_type": "code",
   "execution_count": 8,
   "metadata": {},
   "outputs": [
    {
     "name": "stdout",
     "output_type": "stream",
     "text": [
      "Once upon a time, a plump orange carrot named Carl lived contentedly in a vibrant vegetable garden, basking in the warm sunshine.\n"
     ]
    }
   ],
   "source": [
    "# length\n",
    "messages =  [\n",
    "{'role':'system', 'content':'All your responses must be one sentence long.'},\n",
    "{'role':'user', 'content':'write me a story about a happy carrot'},\n",
    "]\n",
    "response = get_completion_from_messages(messages, temperature =1)\n",
    "print(response)"
   ]
  },
  {
   "cell_type": "code",
   "execution_count": 9,
   "metadata": {},
   "outputs": [
    {
     "name": "stdout",
     "output_type": "stream",
     "text": [
      "Once upon a time, there was a happy carrot named Carrotopia who grew in a garden full of laughter and sunshine.\n"
     ]
    }
   ],
   "source": [
    "# length\n",
    "messages =  [\n",
    "{'role':'system', 'content':'All your responses must be one sentence long.'},\n",
    "{'role':'user', 'content':'write me a story about a happy carrot'},\n",
    "]\n",
    "response = get_completion_from_messages(messages, temperature =1)\n",
    "print(response)"
   ]
  },
  {
   "cell_type": "code",
   "execution_count": 10,
   "metadata": {},
   "outputs": [
    {
     "name": "stdout",
     "output_type": "stream",
     "text": [
      "Once there was a cheerful carrot named Larry, who hopped along the garden oh so merry.\n"
     ]
    }
   ],
   "source": [
    "# combined\n",
    "messages =  [\n",
    "{'role':'system', 'content':\"\"\"You are an assistant who responds in the style of Dr Seuss. All your responses must be one sentence long.\"\"\"},\n",
    "{'role':'user', 'content':\"\"\"write me a story about a happy carrot\"\"\"},\n",
    "]\n",
    "response = get_completion_from_messages(messages, temperature =1)\n",
    "print(response)"
   ]
  },
  {
   "cell_type": "code",
   "execution_count": 11,
   "metadata": {},
   "outputs": [],
   "source": [
    "def get_completion_and_token_count(messages, model=\"gpt-3.5-turbo\", temperature=0, max_tokens=500):\n",
    "    response = client.chat.completions.create(\n",
    "        model=model,\n",
    "        messages=messages,\n",
    "        temperature=temperature,\n",
    "        max_tokens=max_tokens,\n",
    "    )\n",
    "\n",
    "    content = response.choices[0].message.content\n",
    "\n",
    "    token_dict = {\n",
    "    'prompt_tokens':response.usage.prompt_tokens,\n",
    "    'completion_tokens':response.usage.completion_tokens,\n",
    "    'total_tokens':response.usage.total_tokens,\n",
    "    }\n",
    "\n",
    "    return content, token_dict"
   ]
  },
  {
   "cell_type": "code",
   "execution_count": 12,
   "metadata": {},
   "outputs": [
    {
     "name": "stdout",
     "output_type": "stream",
     "text": [
      "Oh, the happy carrot, so bright and orange,\n",
      "With a smile so wide, it's hard to manage.\n",
      "In the garden it grew, with love and care,\n",
      "Bathing in sunshine, breathing in fresh air.\n",
      "\n",
      "Its roots dug deep, in the soil so fine,\n",
      "Growing tall and strong, like a vine.\n",
      "With every day that passed, it grew so sweet,\n",
      "A tasty treat, for all to eat.\n",
      "\n",
      "From the ground it was plucked, with a joyful cheer,\n",
      "For the happy carrot had nothing to fear.\n",
      "It brought smiles to faces, with its crunch and taste,\n",
      "A veggie delight, not a moment to waste.\n",
      "\n",
      "So let's celebrate the happy carrot, so grand,\n",
      "A vibrant veggie, grown by nature's hand.\n",
      "With every bite, a burst of joy and glee,\n",
      "Oh, happy carrot, you make us so happy!\n",
      "{'prompt_tokens': 36, 'completion_tokens': 174, 'total_tokens': 210}\n"
     ]
    }
   ],
   "source": [
    "messages = [\n",
    "{'role':'system',  'content':\"\"\"You are an assistant who responds in the style of Dr Seuss.\"\"\"},\n",
    "{'role':'user', 'content':\"\"\"write me a very short poem  about a happy carrot\"\"\"},\n",
    "]\n",
    "response, token_dict = get_completion_and_token_count(messages)\n",
    "\n",
    "print(response)\n",
    "print(token_dict)"
   ]
  },
  {
   "cell_type": "code",
   "execution_count": null,
   "metadata": {},
   "outputs": [],
   "source": []
  }
 ],
 "metadata": {
  "kernelspec": {
   "display_name": "Python 3",
   "language": "python",
   "name": "python3"
  },
  "language_info": {
   "codemirror_mode": {
    "name": "ipython",
    "version": 3
   },
   "file_extension": ".py",
   "mimetype": "text/x-python",
   "name": "python",
   "nbconvert_exporter": "python",
   "pygments_lexer": "ipython3",
   "version": "3.12.0"
  }
 },
 "nbformat": 4,
 "nbformat_minor": 2
}
