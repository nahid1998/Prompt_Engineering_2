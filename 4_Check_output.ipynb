{
 "cells": [
  {
   "cell_type": "markdown",
   "metadata": {},
   "source": [
    "## Setup"
   ]
  },
  {
   "cell_type": "code",
   "execution_count": 1,
   "metadata": {},
   "outputs": [],
   "source": [
    "import os\n",
    "import openai\n",
    "import tiktoken\n",
    "from dotenv import load_dotenv, find_dotenv\n",
    "_ = load_dotenv(find_dotenv()) # read local .env file\n",
    "\n",
    "openai.api_key  = os.environ['OPENAI_API_KEY']"
   ]
  },
  {
   "cell_type": "code",
   "execution_count": 2,
   "metadata": {},
   "outputs": [],
   "source": [
    "client = openai.OpenAI()\n",
    "\n",
    "def get_completion(prompt, model=\"gpt-3.5-turbo\"):\n",
    "    messages = [{\"role\": \"user\", \"content\": prompt}]\n",
    "    response = client.chat.completions.create(\n",
    "        model=model,\n",
    "        messages=messages,\n",
    "        temperature=0\n",
    "    )\n",
    "    return response.choices[0].message.content\n",
    "\n",
    "def get_completion_from_messages(messages, model=\"gpt-3.5-turbo\", temperature=0, max_tokens=500):\n",
    "    response = client.chat.completions.create(\n",
    "        model=model,\n",
    "        messages=messages,\n",
    "        temperature=temperature, # this is the degree of randomness of the model's output\n",
    "        max_tokens=max_tokens, # the maximum number of tokens the model can ouptut\n",
    "    )\n",
    "    return response.choices[0].message.content"
   ]
  },
  {
   "cell_type": "markdown",
   "metadata": {},
   "source": [
    "### Check output for potentially harmful content"
   ]
  },
  {
   "cell_type": "code",
   "execution_count": 3,
   "metadata": {},
   "outputs": [
    {
     "name": "stdout",
     "output_type": "stream",
     "text": [
      "Moderation(categories=Categories(harassment=False, harassment_threatening=False, hate=False, hate_threatening=False, self_harm=False, self_harm_instructions=False, self_harm_intent=False, sexual=False, sexual_minors=False, violence=False, violence_graphic=False, self-harm=False, sexual/minors=False, hate/threatening=False, violence/graphic=False, self-harm/intent=False, self-harm/instructions=False, harassment/threatening=False), category_scores=CategoryScores(harassment=2.1706513564367924e-07, harassment_threatening=1.3408454790919677e-08, hate=5.826333904224157e-08, hate_threatening=6.211295477953627e-09, self_harm=2.6782558393279032e-09, self_harm_instructions=1.7051302592108186e-08, self_harm_intent=5.689583915113872e-09, sexual=1.2462000995583367e-06, sexual_minors=1.8129917123133055e-07, violence=1.8678555306905764e-06, violence_graphic=5.455823171018892e-08, self-harm=2.6782558393279032e-09, sexual/minors=1.8129917123133055e-07, hate/threatening=6.211295477953627e-09, violence/graphic=5.455823171018892e-08, self-harm/intent=5.689583915113872e-09, self-harm/instructions=1.7051302592108186e-08, harassment/threatening=1.3408454790919677e-08), flagged=False)\n"
     ]
    }
   ],
   "source": [
    "final_response_to_customer = f\"\"\"\n",
    "The SmartX ProPhone has a 6.1-inch display, 128GB storage, 12MP dual camera, and 5G. \n",
    "The FotoSnap DSLR Camera has a 24.2MP sensor, 1080p video, 3-inch LCD, and interchangeable lenses. \n",
    "We have a variety of TVs, including the CineView 4K TV with a 55-inch display, 4K resolution, HDR, and smart TV features. \n",
    "We also have the SoundMax Home Theater system with 5.1 channel, 1000W output, wireless subwoofer, and Bluetooth.\n",
    "Do you have any specific questions about these products or any other products we offer?\n",
    "\"\"\"\n",
    "response = client.moderations.create(\n",
    "    input=final_response_to_customer\n",
    ")\n",
    "moderation_output = response.results[0]\n",
    "print(moderation_output)"
   ]
  },
  {
   "cell_type": "markdown",
   "metadata": {},
   "source": [
    "### Check if output is factually based on the provided product information"
   ]
  },
  {
   "cell_type": "code",
   "execution_count": 4,
   "metadata": {},
   "outputs": [
    {
     "name": "stdout",
     "output_type": "stream",
     "text": [
      "Y\n"
     ]
    }
   ],
   "source": [
    "system_message = f\"\"\"\n",
    "You are an assistant that evaluates whether customer service agent responses sufficiently answer customer questions, \n",
    "and also validates that all the facts the assistant cites from the product information are correct.\n",
    "The product information and user and customer service agent messages will be delimited by 3 backticks, i.e. ```.\n",
    "Respond with a Y or N character, with no punctuation:\n",
    "Y - if the output sufficiently answers the question AND the response correctly uses product information\n",
    "N - otherwise\n",
    "\n",
    "Output a single letter only.\n",
    "\"\"\"\n",
    "customer_message = f\"\"\"\n",
    "tell me about the smartx pro phone and the fotosnap camera, the dslr one. Also tell me about your tvs\"\"\"\n",
    "\n",
    "product_information = \"\"\"\n",
    "{ \"name\": \"SmartX ProPhone\", \n",
    "\"category\": \"Smartphones and Accessories\", \n",
    "\"brand\": \"SmartX\", \n",
    "\"model_number\": \"SX-PP10\", \n",
    "\"warranty\": \"1 year\", \n",
    "\"rating\": 4.6, \n",
    "\"features\": [ \"6.1-inch display\", \"128GB storage\", \"12MP dual camera\", \"5G\" ], \n",
    "\"description\": \"A powerful smartphone with advanced camera features.\", \n",
    "\"price\": 899.99 } \n",
    "{ \"name\": \"FotoSnap DSLR Camera\", \n",
    "\"category\": \"Cameras and Camcorders\", \n",
    "\"brand\": \"FotoSnap\", \n",
    "\"model_number\": \"FS-DSLR200\", \n",
    "\"warranty\": \"1 year\", \n",
    "\"rating\": 4.7, \n",
    "\"features\": [ \"24.2MP sensor\", \"1080p video\", \"3-inch LCD\", \"Interchangeable lenses\" ], \n",
    "\"description\": \"Capture stunning photos and videos with this versatile DSLR camera.\", \n",
    "\"price\": 599.99 } \n",
    "{ \"name\": \"CineView 4K TV\", \n",
    "\"category\": \"Televisions and Home Theater Systems\", \n",
    "\"brand\": \"CineView\", \n",
    "\"model_number\": \"CV-4K55\", \n",
    "\"warranty\": \"2 years\", \n",
    "\"rating\": 4.8, \n",
    "\"features\": [ \"55-inch display\", \"4K resolution\", \"HDR\", \"Smart TV\" ], \n",
    "\"description\": \"A stunning 4K TV with vibrant colors and smart features.\", \n",
    "\"price\": 599.99 } \n",
    "{ \"name\": \"SoundMax Home Theater\", \n",
    "\"category\": \"Televisions and Home Theater Systems\", \n",
    "\"brand\": \"SoundMax\", \n",
    "\"model_number\": \"SM-HT100\", \n",
    "\"warranty\": \"1 year\", \n",
    "\"rating\": 4.4, \n",
    "\"features\": [ \"5.1 channel\", \"1000W output\", \"Wireless subwoofer\", \"Bluetooth\" ], \n",
    "\"description\": \"A powerful home theater system for an immersive audio experience.\", \n",
    "\"price\": 399.99 } \n",
    "{ \"name\": \"CineView 8K TV\", \n",
    "\"category\": \"Televisions and Home Theater Systems\", \n",
    "\"brand\": \"CineView\", \n",
    "\"model_number\": \"CV-8K65\", \n",
    "\"warranty\": \"2 years\", \n",
    "\"rating\": 4.9, \n",
    "\"features\": [ \"65-inch display\", \"8K resolution\", \"HDR\", \"Smart TV\" ], \n",
    "\"description\": \"Experience the future of television with this stunning 8K TV.\", \n",
    "\"price\": 2999.99 } \n",
    "{ \"name\": \"SoundMax Soundbar\", \n",
    "\"category\": \"Televisions and Home Theater Systems\", \n",
    "\"brand\": \"SoundMax\", \n",
    "\"model_number\": \"SM-SB50\", \n",
    "\"warranty\": \"1 year\", \n",
    "\"rating\": 4.3, \n",
    "\"features\": [ \"2.1 channel\", \"300W output\", \"Wireless subwoofer\", \"Bluetooth\" ], \n",
    "\"description\": \"Upgrade your TV's audio with this sleek and powerful soundbar.\", \n",
    "\"price\": 199.99 } \n",
    "{ \"name\": \"CineView OLED TV\", \n",
    "\"category\": \"Televisions and Home Theater Systems\", \n",
    "\"brand\": \"CineView\", \n",
    "\"model_number\": \"CV-OLED55\", \n",
    "\"warranty\": \"2 years\", \n",
    "\"rating\": 4.7, \n",
    "\"features\": [ \"55-inch display\", \"4K resolution\", \"HDR\", \"Smart TV\" ], \n",
    "\"description\": \"Experience true blacks and vibrant colors with this OLED TV.\", \n",
    "\"price\": 1499.99 }\"\"\"\n",
    "\n",
    "q_a_pair = f\"\"\"\n",
    "Customer message: ```{customer_message}```\n",
    "Product information: ```{product_information}```\n",
    "Agent response: ```{final_response_to_customer}```\n",
    "\n",
    "Does the response use the retrieved information correctly?\n",
    "Does the response sufficiently answer the question\n",
    "\n",
    "Output Y or N\n",
    "\"\"\"\n",
    "messages = [\n",
    "    {'role': 'system', 'content': system_message},\n",
    "    {'role': 'user', 'content': q_a_pair}\n",
    "]\n",
    "\n",
    "response = get_completion_from_messages(messages, max_tokens=1)\n",
    "print(response)"
   ]
  },
  {
   "cell_type": "code",
   "execution_count": 5,
   "metadata": {},
   "outputs": [
    {
     "name": "stdout",
     "output_type": "stream",
     "text": [
      "N\n"
     ]
    }
   ],
   "source": [
    "another_response = \"life is like a box of chocolates\"\n",
    "q_a_pair = f\"\"\"\n",
    "Customer message: ```{customer_message}```\n",
    "Product information: ```{product_information}```\n",
    "Agent response: ```{another_response}```\n",
    "\n",
    "Does the response use the retrieved information correctly?\n",
    "Does the response sufficiently answer the question?\n",
    "\n",
    "Output Y or N\n",
    "\"\"\"\n",
    "messages = [\n",
    "    {'role': 'system', 'content': system_message},\n",
    "    {'role': 'user', 'content': q_a_pair}\n",
    "]\n",
    "\n",
    "response = get_completion_from_messages(messages)\n",
    "print(response)"
   ]
  },
  {
   "cell_type": "code",
   "execution_count": null,
   "metadata": {},
   "outputs": [],
   "source": []
  }
 ],
 "metadata": {
  "kernelspec": {
   "display_name": "Python 3",
   "language": "python",
   "name": "python3"
  },
  "language_info": {
   "codemirror_mode": {
    "name": "ipython",
    "version": 3
   },
   "file_extension": ".py",
   "mimetype": "text/x-python",
   "name": "python",
   "nbconvert_exporter": "python",
   "pygments_lexer": "ipython3",
   "version": "3.12.0"
  }
 },
 "nbformat": 4,
 "nbformat_minor": 2
}
